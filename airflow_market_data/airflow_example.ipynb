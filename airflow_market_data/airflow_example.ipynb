{
 "cells": [
  {
   "cell_type": "code",
   "execution_count": 14,
   "metadata": {},
   "outputs": [],
   "source": [
    "import requests\n",
    "import pandas as pd\n",
    "\n",
    "from airflow import DAG\n",
    "from airflow.operators.python import PythonOperator\n",
    "from datetime import datetime, timedelta\n",
    "\n",
    "from kraken_api import get_market_data"
   ]
  },
  {
   "cell_type": "code",
   "execution_count": 15,
   "metadata": {},
   "outputs": [],
   "source": [
    "TICKER = \"XXBTZUSD\"\n",
    "START_DATE = datetime(2025, 1, 1)\n",
    "RETRY_DELAY = timedelta(minutes=5)"
   ]
  },
  {
   "cell_type": "code",
   "execution_count": 17,
   "metadata": {},
   "outputs": [],
   "source": [
    "def get_market_data(**kwargs):\n",
    "    # Daily interval\n",
    "    interval = str(60*24)\n",
    "\n",
    "    # Construct the API URL for fetching OHLC data\n",
    "    url = f\"https://api.kraken.com/0/public/OHLC?pair={ticker}&interval={interval}\"\n",
    "\n",
    "    # Set up request headers\n",
    "    headers = {'Accept': 'application/json'}\n",
    "\n",
    "    try:\n",
    "        # Make the request to the Kraken API\n",
    "        response = requests.request(\n",
    "            \"GET\", url, headers=headers,\n",
    "            data={}, timeout=10\n",
    "        )\n",
    "    except requests.exceptions.Timeout as e:\n",
    "        # Print timeout exception message\n",
    "        print(e)\n",
    "\n",
    "\n",
    "    kwargs[\"ti\"].xcom_push(\n",
    "        key=\"api_data\",\n",
    "        value=response.json()['result'][TICKER])\n",
    "\n",
    "\n",
    "\n",
    "def convert_json_to_df(**kwargs):\n",
    "    \n",
    "    data = kwargs[\"ti\"].xcom_pull(\n",
    "        key=\"api_data\",\n",
    "        task_ids=\"fetch_data_task\"\n",
    "    )\n",
    "    \n",
    "    # Parse the JSON response into a DataFrame\n",
    "    df = pd.DataFrame(\n",
    "        data,\n",
    "        columns=['timestamp', 'open', 'high', 'low',\n",
    "                    'close', 'vwap', 'volume', 'count'],\n",
    "        dtype=float\n",
    "    )\n",
    "\n",
    "    # Convert timestamps to datetime and set as index\n",
    "    df['timestamp'] = pd.to_datetime(df['timestamp'], unit='s')\n",
    "    \n",
    "    # save to csv\n",
    "    today = datetime.now().strftime(\"%Y-%m-%d\")\n",
    "    file_path = f\"btc_data_{today}.csv\"\n",
    "    \n",
    "    df.to_csv(\n",
    "        path_or_buf=file_path,\n",
    "        index=False\n",
    "    )\n",
    "    \n",
    "    print(f\"csv saved on {today} to {file_path}\")"
   ]
  },
  {
   "cell_type": "code",
   "execution_count": 20,
   "metadata": {},
   "outputs": [],
   "source": [
    "default_args = {\n",
    "    \"owner\": \"airflow\",\n",
    "    \"retries\": 1,\n",
    "    \"retry_delay\": RETRY_DELAY\n",
    "}\n",
    "\n",
    "# Define a DAG to fetch market data\n",
    "with DAG(\n",
    "    'api_to_csv_dag',\n",
    "    description=\"Fetch daily Kraken market API BTC data\",\n",
    "    schedule=\"@daily\",\n",
    "    start_date=START_DATE,\n",
    "    catchup=False\n",
    ") as dag:\n",
    "    \n",
    "    # Extract: Fetch data from Kraken API\n",
    "    fetch_data_task = PythonOperator(\n",
    "        task_id=\"fetch_data_task\",\n",
    "        python_callable=get_market_data,\n",
    "    )\n",
    "    \n",
    "    # Transform: Convert JSON to Dataframe\n",
    "    json_to_df_task = PythonOperator(\n",
    "        task_id=\"json_to_df_task\",\n",
    "        python_callable=convert_json_to_df\n",
    "    )\n",
    "    \n",
    "    # task dependencies\n",
    "    fetch_data_task >> json_to_df_task"
   ]
  },
  {
   "cell_type": "code",
   "execution_count": null,
   "metadata": {},
   "outputs": [],
   "source": []
  }
 ],
 "metadata": {
  "kernelspec": {
   "display_name": "airflow",
   "language": "python",
   "name": "python3"
  },
  "language_info": {
   "codemirror_mode": {
    "name": "ipython",
    "version": 3
   },
   "file_extension": ".py",
   "mimetype": "text/x-python",
   "name": "python",
   "nbconvert_exporter": "python",
   "pygments_lexer": "ipython3",
   "version": "3.12.8"
  }
 },
 "nbformat": 4,
 "nbformat_minor": 2
}
